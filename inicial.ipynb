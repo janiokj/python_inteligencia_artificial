{
 "cells": [
  {
   "cell_type": "markdown",
   "metadata": {},
   "source": [
    "# Projeto Python IA: Inteligência Artificial e Previsões\n",
    "\n",
    "### Case: Score de Crédito dos Clientes\n",
    "\n",
    "Você foi contratado por um banco para conseguir definir o score de crédito dos clientes. Você precisa analisar todos os clientes do banco e, com base nessa análise, criar um modelo que consiga ler as informações do cliente e dizer automaticamente o score de crédito dele: Ruim, Ok, Bom\n",
    "\n",
    "Arquivos da aula: https://drive.google.com/drive/folders/1FbDqVq4XLvU85VBlVIMJ73p9oOu6u2-J?usp=drive_link"
   ]
  },
  {
   "cell_type": "code",
   "execution_count": 1,
   "metadata": {},
   "outputs": [
    {
     "ename": "ModuleNotFoundError",
     "evalue": "No module named 'sklearn'",
     "output_type": "error",
     "traceback": [
      "\u001b[1;31m---------------------------------------------------------------------------\u001b[0m",
      "\u001b[1;31mModuleNotFoundError\u001b[0m                       Traceback (most recent call last)",
      "Cell \u001b[1;32mIn[1], line 10\u001b[0m\n\u001b[0;32m      3\u001b[0m dados \u001b[38;5;241m=\u001b[39m pd\u001b[38;5;241m.\u001b[39mread_csv(\u001b[38;5;124m\"\u001b[39m\u001b[38;5;124mclientes.csv\u001b[39m\u001b[38;5;124m\"\u001b[39m)\n\u001b[0;32m      4\u001b[0m \u001b[38;5;66;03m#display(dados)\u001b[39;00m\n\u001b[0;32m      5\u001b[0m \u001b[38;5;66;03m#display(dados.info())\u001b[39;00m\n\u001b[0;32m      6\u001b[0m \n\u001b[0;32m      7\u001b[0m \u001b[38;5;66;03m#Processo de aprendizado de IA não pode ter informações do tipo texto (object)\u001b[39;00m\n\u001b[0;32m      8\u001b[0m \u001b[38;5;66;03m#Resolve-se isso com label enconder: designar um numero para representar cada informações. Pode-se usar isso da biblioteca scikit learn\u001b[39;00m\n\u001b[1;32m---> 10\u001b[0m \u001b[38;5;28;01mfrom\u001b[39;00m \u001b[38;5;21;01msklearn\u001b[39;00m\u001b[38;5;21;01m.\u001b[39;00m\u001b[38;5;21;01mpreprocessing\u001b[39;00m \u001b[38;5;28;01mimport\u001b[39;00m LabelEncoder\n\u001b[0;32m     11\u001b[0m codificador \u001b[38;5;241m=\u001b[39m LabelEncoder()\n\u001b[0;32m     13\u001b[0m dados[\u001b[38;5;124m\"\u001b[39m\u001b[38;5;124mprofissao\u001b[39m\u001b[38;5;124m\"\u001b[39m] \u001b[38;5;241m=\u001b[39m codificador\u001b[38;5;241m.\u001b[39mfit_transform(dados[\u001b[38;5;124m\"\u001b[39m\u001b[38;5;124mprofissao\u001b[39m\u001b[38;5;124m\"\u001b[39m])\u001b[38;5;66;03m#substitui as informações da coluna profissao por codigos através do encoder\u001b[39;00m\n",
      "\u001b[1;31mModuleNotFoundError\u001b[0m: No module named 'sklearn'"
     ]
    }
   ],
   "source": [
    "#pip install pandas numpy scikit learn\n",
    "import pandas as pd\n",
    "dados = pd.read_csv(\"clientes.csv\")\n",
    "#display(dados)\n",
    "#display(dados.info())\n",
    "\n",
    "#Processo de aprendizado de IA não pode ter informações do tipo texto (object)\n",
    "#Resolve-se isso com label enconder: designar um numero para representar cada informações. Pode-se usar isso da biblioteca scikit learn\n",
    "\n",
    "from sklearn.preprocessing import LabelEncoder\n",
    "codificador = LabelEncoder()\n",
    "\n",
    "dados[\"profissao\"] = codificador.fit_transform(dados[\"profissao\"])#substitui as informações da coluna profissao por codigos através do encoder\n",
    "dados[\"mix_credito\"] = codificador.fit_transform(dados[\"mix_credito\"])\n",
    "dados[\"comportamento_pagamento\"] = codificador.fit_transform(dados[\"comportamento_pagamento\"])\n",
    "\n",
    "display(dados.info())\n",
    "\n"
   ]
  }
 ],
 "metadata": {
  "kernelspec": {
   "display_name": "Python 3",
   "language": "python",
   "name": "python3"
  },
  "language_info": {
   "codemirror_mode": {
    "name": "ipython",
    "version": 3
   },
   "file_extension": ".py",
   "mimetype": "text/x-python",
   "name": "python",
   "nbconvert_exporter": "python",
   "pygments_lexer": "ipython3",
   "version": "3.12.2"
  },
  "orig_nbformat": 4
 },
 "nbformat": 4,
 "nbformat_minor": 2
}
