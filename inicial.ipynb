{
 "cells": [
  {
   "cell_type": "markdown",
   "metadata": {},
   "source": [
    "# Projeto Python IA: Inteligência Artificial e Previsões\n",
    "\n",
    "### Case: Score de Crédito dos Clientes\n",
    "\n",
    "Você foi contratado por um banco para conseguir definir o score de crédito dos clientes. Você precisa analisar todos os clientes do banco e, com base nessa análise, criar um modelo que consiga ler as informações do cliente e dizer automaticamente o score de crédito dele: Ruim, Ok, Bom\n",
    "\n",
    "Arquivos da aula: https://drive.google.com/drive/folders/1FbDqVq4XLvU85VBlVIMJ73p9oOu6u2-J?usp=drive_link"
   ]
  },
  {
   "cell_type": "code",
   "execution_count": null,
   "metadata": {},
   "outputs": [],
   "source": [
    "#pip install pandas numpy scikit learn\n",
    "import pandas as pd\n",
    "dados = pd.read_csv(\"clientes.csv\")\n",
    "#display(dados)\n",
    "#display(dados.info())\n",
    "\n",
    "#Processo de aprendizado de IA não pode ter informações do tipo texto (object)\n",
    "#Resolve-se isso com label enconder: designar um numero para representar cada informações. Pode-se usar isso da biblioteca scikit learn\n",
    "\n",
    "from sklearn.preprocessing import LabelEncoder\n",
    "codificador = LabelEncoder()\n",
    "\n",
    "dados[\"profissao\"] = codificador.fit_transform(dados[\"profissao\"])#substitui as informações da coluna profissao por codigos através do encoder\n",
    "dados[\"mix_credito\"] = codificador.fit_transform(dados[\"mix_credito\"])\n",
    "dados[\"comportamento_pagamento\"] = codificador.fit_transform(dados[\"comportamento_pagamento\"])\n",
    "\n",
    "display(dados.info())"
   ]
  },
  {
   "cell_type": "code",
   "execution_count": null,
   "metadata": {},
   "outputs": [],
   "source": [
    "#Fazer a IA entender o que ela teria que prefer (score_credito) e quais info precisaria para tal.\n",
    "#Por convenção O cara que a gente quer prefer a gente chama de Y e os valores que a IA usará para prever são chamados de X\n",
    "\n",
    "x = dados.drop(columns=[\"score_credito\",\"id_cliente\"])\n",
    "y = \"score_credito\"\n",
    "\n",
    "#Separar parte dos dados para treino e parte para testar se a IA tem aprendido corretamente\n",
    "from sklearn.model_selection import train_test_split\n",
    "\n",
    "x_treino, x_teste, y_treino, y_teste = train_test_split(x,y)# aqui a ordem das variaveis é importante, tem que ser nessa sequencia"
   ]
  },
  {
   "cell_type": "code",
   "execution_count": null,
   "metadata": {},
   "outputs": [],
   "source": [
    "#Criar um modelo de IA - Nota de Crédito: Ruim, Média ou Boa\n",
    "#Vamos usar dos modelos de IA disponíveis:\n",
    "#Arvores de Decisão -> Randon Forest\n",
    "#Neirest Neighbors -> KNN\n",
    "\n",
    "#Importar a IA\n",
    "from sklearn.ensemble import RandomForestClassifier\n",
    "from sklearn.neighbors import KNeighborsClassifier\n",
    "\n",
    "#Criar a IA\n",
    "modelo_arvore_decisao = RandomForestClassifier()\n",
    "modelo_knn = KNeighborsClassifier()\n",
    "\n",
    "#Treinar a IA\n",
    "modelo_arvore_decisao.fit(x_treino, y_treino)\n",
    "modelo_knn.fit(x_treino, y_treino)\n",
    "\n"
   ]
  }
 ],
 "metadata": {
  "kernelspec": {
   "display_name": "Python 3",
   "language": "python",
   "name": "python3"
  },
  "language_info": {
   "codemirror_mode": {
    "name": "ipython",
    "version": 3
   },
   "file_extension": ".py",
   "mimetype": "text/x-python",
   "name": "python",
   "nbconvert_exporter": "python",
   "pygments_lexer": "ipython3",
   "version": "3.12.2"
  },
  "orig_nbformat": 4
 },
 "nbformat": 4,
 "nbformat_minor": 2
}
