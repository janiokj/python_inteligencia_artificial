{
 "cells": [
  {
   "cell_type": "markdown",
   "metadata": {},
   "source": [
    "# Projeto Python IA: Inteligência Artificial e Previsões\n",
    "\n",
    "### Case: Score de Crédito dos Clientes\n",
    "\n",
    "Você foi contratado por um banco para conseguir definir o score de crédito dos clientes. Você precisa analisar todos os clientes do banco e, com base nessa análise, criar um modelo que consiga ler as informações do cliente e dizer automaticamente o score de crédito dele: Ruim, Ok, Bom\n",
    "\n",
    "Arquivos da aula: https://drive.google.com/drive/folders/1FbDqVq4XLvU85VBlVIMJ73p9oOu6u2-J?usp=drive_link"
   ]
  },
  {
   "cell_type": "code",
   "execution_count": 12,
   "metadata": {},
   "outputs": [
    {
     "name": "stdout",
     "output_type": "stream",
     "text": [
      "<class 'pandas.core.frame.DataFrame'>\n",
      "RangeIndex: 100000 entries, 0 to 99999\n",
      "Data columns (total 25 columns):\n",
      " #   Column                    Non-Null Count   Dtype  \n",
      "---  ------                    --------------   -----  \n",
      " 0   id_cliente                100000 non-null  int64  \n",
      " 1   mes                       100000 non-null  int64  \n",
      " 2   idade                     100000 non-null  float64\n",
      " 3   profissao                 100000 non-null  int64  \n",
      " 4   salario_anual             100000 non-null  float64\n",
      " 5   num_contas                100000 non-null  float64\n",
      " 6   num_cartoes               100000 non-null  float64\n",
      " 7   juros_emprestimo          100000 non-null  float64\n",
      " 8   num_emprestimos           100000 non-null  float64\n",
      " 9   dias_atraso               100000 non-null  float64\n",
      " 10  num_pagamentos_atrasados  100000 non-null  float64\n",
      " 11  num_verificacoes_credito  100000 non-null  float64\n",
      " 12  mix_credito               100000 non-null  int64  \n",
      " 13  divida_total              100000 non-null  float64\n",
      " 14  taxa_uso_credito          100000 non-null  float64\n",
      " 15  idade_historico_credito   100000 non-null  float64\n",
      " 16  investimento_mensal       100000 non-null  float64\n",
      " 17  comportamento_pagamento   100000 non-null  int64  \n",
      " 18  saldo_final_mes           100000 non-null  float64\n",
      " 19  score_credito             100000 non-null  object \n",
      " 20  emprestimo_carro          100000 non-null  int64  \n",
      " 21  emprestimo_casa           100000 non-null  int64  \n",
      " 22  emprestimo_pessoal        100000 non-null  int64  \n",
      " 23  emprestimo_credito        100000 non-null  int64  \n",
      " 24  emprestimo_estudantil     100000 non-null  int64  \n",
      "dtypes: float64(14), int64(10), object(1)\n",
      "memory usage: 19.1+ MB\n"
     ]
    },
    {
     "data": {
      "text/plain": [
       "None"
      ]
     },
     "metadata": {},
     "output_type": "display_data"
    }
   ],
   "source": [
    "#pip install pandas numpy scikit learn\n",
    "import pandas as pd\n",
    "dados = pd.read_csv(\"clientes.csv\")\n",
    "#display(dados)\n",
    "#display(dados.info())\n",
    "\n",
    "#Processo de aprendizado de IA não pode ter informações do tipo texto (object)\n",
    "#Resolve-se isso com label enconder: designar um numero para representar cada informações. Pode-se usar isso da biblioteca scikit learn\n",
    "\n",
    "from sklearn.preprocessing import LabelEncoder\n",
    "codificador = LabelEncoder()\n",
    "\n",
    "# só não aplicamos na coluna de score_credito que é o nosso objetivo\n",
    "for coluna in dados.columns:\n",
    "    if dados[coluna].dtype == \"object\" and coluna != \"score_credito\":\n",
    "        dados[coluna] = codificador.fit_transform(dados[coluna])\n",
    "\n",
    "display(dados.info())"
   ]
  },
  {
   "cell_type": "code",
   "execution_count": 14,
   "metadata": {},
   "outputs": [],
   "source": [
    "#Fazer a IA entender o que ela teria que prefer (score_credito) e quais info precisaria para tal.\n",
    "#Por convenção O cara que a gente quer prefer a gente chama de Y e os valores que a IA usará para prever são chamados de X\n",
    "\n",
    "x = dados.drop(columns=[\"score_credito\",\"id_cliente\"])\n",
    "y = dados[\"score_credito\"]\n",
    "\n",
    "#Separar parte dos dados para treino e parte para testar se a IA tem aprendido corretamente\n",
    "from sklearn.model_selection import train_test_split\n",
    "\n",
    "x_treino, x_teste, y_treino, y_teste = train_test_split(x,y,test_size=0.3)# aqui a ordem das variaveis é importante, tem que ser nessa sequencia \n",
    "# e usando o test_size você define o % da base a ser usada para treino"
   ]
  },
  {
   "cell_type": "code",
   "execution_count": null,
   "metadata": {},
   "outputs": [],
   "source": [
    "#Criar um modelo de IA - Nota de Crédito: Ruim, Média ou Boa\n",
    "#Vamos usar dos modelos de IA disponíveis:\n",
    "#Arvores de Decisão -> Randon Forest\n",
    "#Neirest Neighbors -> KNN\n",
    "\n",
    "#Importar a IA\n",
    "from sklearn.ensemble import RandomForestClassifier\n",
    "from sklearn.neighbors import KNeighborsClassifier\n",
    "\n",
    "#Criar a IA\n",
    "modelo_arvore_decisao = RandomForestClassifier()\n",
    "modelo_knn = KNeighborsClassifier()\n",
    "\n",
    "#Treinar a IA\n",
    "modelo_arvore_decisao.fit(x_treino, y_treino)\n",
    "modelo_knn.fit(x_treino, y_treino)\n",
    "\n"
   ]
  },
  {
   "cell_type": "code",
   "execution_count": 16,
   "metadata": {},
   "outputs": [
    {
     "data": {
      "text/plain": [
       "0.82732"
      ]
     },
     "metadata": {},
     "output_type": "display_data"
    },
    {
     "data": {
      "text/plain": [
       "0.74288"
      ]
     },
     "metadata": {},
     "output_type": "display_data"
    }
   ],
   "source": [
    "#Escolher o melhor modelo\n",
    "previsao_arvore_decisao = modelo_arvore_decisao.predict(x_teste)\n",
    "previsao_knn = modelo_knn.predict(x_teste)\n",
    "\n",
    "#calcular a Acurácia de cada um deles\n",
    "from sklearn.metrics import accuracy_score\n",
    "\n",
    "#mostrar o resultados\n",
    "display(accuracy_score(y_teste, previsao_arvore_decisao))\n",
    "display(accuracy_score(y_teste, previsao_knn))"
   ]
  },
  {
   "cell_type": "code",
   "execution_count": 19,
   "metadata": {},
   "outputs": [
    {
     "data": {
      "text/html": [
       "<div>\n",
       "<style scoped>\n",
       "    .dataframe tbody tr th:only-of-type {\n",
       "        vertical-align: middle;\n",
       "    }\n",
       "\n",
       "    .dataframe tbody tr th {\n",
       "        vertical-align: top;\n",
       "    }\n",
       "\n",
       "    .dataframe thead th {\n",
       "        text-align: right;\n",
       "    }\n",
       "</style>\n",
       "<table border=\"1\" class=\"dataframe\">\n",
       "  <thead>\n",
       "    <tr style=\"text-align: right;\">\n",
       "      <th></th>\n",
       "      <th>mes</th>\n",
       "      <th>idade</th>\n",
       "      <th>profissao</th>\n",
       "      <th>salario_anual</th>\n",
       "      <th>num_contas</th>\n",
       "      <th>num_cartoes</th>\n",
       "      <th>juros_emprestimo</th>\n",
       "      <th>num_emprestimos</th>\n",
       "      <th>dias_atraso</th>\n",
       "      <th>num_pagamentos_atrasados</th>\n",
       "      <th>...</th>\n",
       "      <th>taxa_uso_credito</th>\n",
       "      <th>idade_historico_credito</th>\n",
       "      <th>investimento_mensal</th>\n",
       "      <th>comportamento_pagamento</th>\n",
       "      <th>saldo_final_mes</th>\n",
       "      <th>emprestimo_carro</th>\n",
       "      <th>emprestimo_casa</th>\n",
       "      <th>emprestimo_pessoal</th>\n",
       "      <th>emprestimo_credito</th>\n",
       "      <th>emprestimo_estudantil</th>\n",
       "    </tr>\n",
       "  </thead>\n",
       "  <tbody>\n",
       "    <tr>\n",
       "      <th>0</th>\n",
       "      <td>1</td>\n",
       "      <td>31.0</td>\n",
       "      <td>empresario</td>\n",
       "      <td>19300.340</td>\n",
       "      <td>6.0</td>\n",
       "      <td>7.0</td>\n",
       "      <td>17.0</td>\n",
       "      <td>5.0</td>\n",
       "      <td>52.0</td>\n",
       "      <td>19.0</td>\n",
       "      <td>...</td>\n",
       "      <td>29.934186</td>\n",
       "      <td>218.0</td>\n",
       "      <td>44.50951</td>\n",
       "      <td>baixo_gasto_pagamento_baixo</td>\n",
       "      <td>312.487689</td>\n",
       "      <td>1</td>\n",
       "      <td>1</td>\n",
       "      <td>0</td>\n",
       "      <td>0</td>\n",
       "      <td>0</td>\n",
       "    </tr>\n",
       "    <tr>\n",
       "      <th>1</th>\n",
       "      <td>4</td>\n",
       "      <td>32.0</td>\n",
       "      <td>advogado</td>\n",
       "      <td>12600.445</td>\n",
       "      <td>5.0</td>\n",
       "      <td>5.0</td>\n",
       "      <td>10.0</td>\n",
       "      <td>3.0</td>\n",
       "      <td>25.0</td>\n",
       "      <td>18.0</td>\n",
       "      <td>...</td>\n",
       "      <td>28.819407</td>\n",
       "      <td>12.0</td>\n",
       "      <td>0.00000</td>\n",
       "      <td>baixo_gasto_pagamento_medio</td>\n",
       "      <td>300.994163</td>\n",
       "      <td>0</td>\n",
       "      <td>0</td>\n",
       "      <td>0</td>\n",
       "      <td>0</td>\n",
       "      <td>1</td>\n",
       "    </tr>\n",
       "    <tr>\n",
       "      <th>2</th>\n",
       "      <td>2</td>\n",
       "      <td>48.0</td>\n",
       "      <td>empresario</td>\n",
       "      <td>20787.690</td>\n",
       "      <td>8.0</td>\n",
       "      <td>6.0</td>\n",
       "      <td>14.0</td>\n",
       "      <td>7.0</td>\n",
       "      <td>24.0</td>\n",
       "      <td>14.0</td>\n",
       "      <td>...</td>\n",
       "      <td>34.235853</td>\n",
       "      <td>215.0</td>\n",
       "      <td>0.00000</td>\n",
       "      <td>baixo_gasto_pagamento_alto</td>\n",
       "      <td>345.081577</td>\n",
       "      <td>0</td>\n",
       "      <td>1</td>\n",
       "      <td>0</td>\n",
       "      <td>1</td>\n",
       "      <td>0</td>\n",
       "    </tr>\n",
       "  </tbody>\n",
       "</table>\n",
       "<p>3 rows × 23 columns</p>\n",
       "</div>"
      ],
      "text/plain": [
       "   mes  idade   profissao  salario_anual  num_contas  num_cartoes  \\\n",
       "0    1   31.0  empresario      19300.340         6.0          7.0   \n",
       "1    4   32.0    advogado      12600.445         5.0          5.0   \n",
       "2    2   48.0  empresario      20787.690         8.0          6.0   \n",
       "\n",
       "   juros_emprestimo  num_emprestimos  dias_atraso  num_pagamentos_atrasados  \\\n",
       "0              17.0              5.0         52.0                      19.0   \n",
       "1              10.0              3.0         25.0                      18.0   \n",
       "2              14.0              7.0         24.0                      14.0   \n",
       "\n",
       "   ...  taxa_uso_credito idade_historico_credito  investimento_mensal  \\\n",
       "0  ...         29.934186                   218.0             44.50951   \n",
       "1  ...         28.819407                    12.0              0.00000   \n",
       "2  ...         34.235853                   215.0              0.00000   \n",
       "\n",
       "       comportamento_pagamento  saldo_final_mes  emprestimo_carro  \\\n",
       "0  baixo_gasto_pagamento_baixo       312.487689                 1   \n",
       "1  baixo_gasto_pagamento_medio       300.994163                 0   \n",
       "2   baixo_gasto_pagamento_alto       345.081577                 0   \n",
       "\n",
       "  emprestimo_casa  emprestimo_pessoal  emprestimo_credito  \\\n",
       "0               1                   0                   0   \n",
       "1               0                   0                   0   \n",
       "2               1                   0                   1   \n",
       "\n",
       "   emprestimo_estudantil  \n",
       "0                      0  \n",
       "1                      1  \n",
       "2                      0  \n",
       "\n",
       "[3 rows x 23 columns]"
      ]
     },
     "metadata": {},
     "output_type": "display_data"
    },
    {
     "data": {
      "text/plain": [
       "array(['Poor', 'Good', 'Good'], dtype=object)"
      ]
     },
     "metadata": {},
     "output_type": "display_data"
    }
   ],
   "source": [
    "#Nesse caso usaremos o modelo de árvore de decisão que teve o melhor resultado\n",
    "dados_novos_clientes = pd.read_csv(\"novos_clientes.csv\")\n",
    "\n",
    "display(dados_novos_clientes)\n",
    "\n",
    "#Ajustar as colunas de texto\n",
    "for coluna in dados_novos_clientes.columns:\n",
    "    if dados_novos_clientes[coluna].dtype == \"object\" and coluna != \"score_credito\":\n",
    "        dados_novos_clientes[coluna] = codificador.fit_transform(dados_novos_clientes[coluna])\n",
    "\n",
    "#fazer as novas previsões\n",
    "previsoes = modelo_arvore_decisao.predict(dados_novos_clientes)\n",
    "display(previsoes)\n",
    "\n",
    "#Veja que o primeiro foi previsto com o Poor, o segundo Good e o terceiro Good também"
   ]
  }
 ],
 "metadata": {
  "kernelspec": {
   "display_name": "Python 3",
   "language": "python",
   "name": "python3"
  },
  "language_info": {
   "codemirror_mode": {
    "name": "ipython",
    "version": 3
   },
   "file_extension": ".py",
   "mimetype": "text/x-python",
   "name": "python",
   "nbconvert_exporter": "python",
   "pygments_lexer": "ipython3",
   "version": "3.12.2"
  },
  "orig_nbformat": 4
 },
 "nbformat": 4,
 "nbformat_minor": 2
}
